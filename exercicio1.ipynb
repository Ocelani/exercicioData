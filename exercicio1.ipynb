{
  "nbformat": 4,
  "nbformat_minor": 0,
  "metadata": {
    "colab": {
      "name": "exercicio1.ipynb",
      "provenance": [],
      "collapsed_sections": [],
      "mount_file_id": "1hnuAxaDScf_2JcIRYVAVPbxJlqRYJ0c5",
      "authorship_tag": "ABX9TyM16GyBoZSwJLrrKeOZIXjJ",
      "include_colab_link": true
    },
    "kernelspec": {
      "name": "python3",
      "display_name": "Python 3"
    }
  },
  "cells": [
    {
      "cell_type": "markdown",
      "metadata": {
        "id": "view-in-github",
        "colab_type": "text"
      },
      "source": [
        "<a href=\"https://colab.research.google.com/github/otaviocelani/exercicioData/blob/master/exercicio1.ipynb\" target=\"_parent\"><img src=\"https://colab.research.google.com/assets/colab-badge.svg\" alt=\"Open In Colab\"/></a>"
      ]
    },
    {
      "cell_type": "markdown",
      "metadata": {
        "id": "TAMHnnYp2msf",
        "colab_type": "text"
      },
      "source": [
        "# Exercício - Data Science \n",
        "### Autor: Otávio Celani"
      ]
    },
    {
      "cell_type": "markdown",
      "metadata": {
        "id": "fr2f93wy2Xve",
        "colab_type": "text"
      },
      "source": [
        "(Adaptado de Morettin & Bussab)\n",
        "\n",
        "A planilha abaixo apresenta informações sobre o estado civil, grau de instrução, número de filhos, salário\n",
        "(em salários mínimos), idade (medida em anos) e região de procedência (capital, interior do estado de\n",
        "Minas Gerais ou outro estado do Brasil) de 36 funcionários da seção de orçamentos da Companhia Milsa."
      ]
    },
    {
      "cell_type": "code",
      "metadata": {
        "colab_type": "code",
        "outputId": "ee3547b4-2bb4-4646-e2a6-dd56ab29fad7",
        "id": "JY-yQio4KdVX",
        "colab": {
          "base_uri": "https://localhost:8080/",
          "height": 204
        }
      },
      "source": [
        "import pandas as pd\n",
        "import numpy as np\n",
        "\n",
        "data = pd.read_csv(\"/content/plan1.csv\")  # importação da planilha \n",
        "\n",
        "data.columns = [\"id\", \"estadoCivil\",\"nivelEnsino\", \"filhos\", \"salario\", \"idade\", \"origem\"]\n",
        "data.head()"
      ],
      "execution_count": 0,
      "outputs": [
        {
          "output_type": "execute_result",
          "data": {
            "text/html": [
              "<div>\n",
              "<style scoped>\n",
              "    .dataframe tbody tr th:only-of-type {\n",
              "        vertical-align: middle;\n",
              "    }\n",
              "\n",
              "    .dataframe tbody tr th {\n",
              "        vertical-align: top;\n",
              "    }\n",
              "\n",
              "    .dataframe thead th {\n",
              "        text-align: right;\n",
              "    }\n",
              "</style>\n",
              "<table border=\"1\" class=\"dataframe\">\n",
              "  <thead>\n",
              "    <tr style=\"text-align: right;\">\n",
              "      <th></th>\n",
              "      <th>id</th>\n",
              "      <th>estadoCivil</th>\n",
              "      <th>nivelEnsino</th>\n",
              "      <th>filhos</th>\n",
              "      <th>salario</th>\n",
              "      <th>idade</th>\n",
              "      <th>origem</th>\n",
              "    </tr>\n",
              "  </thead>\n",
              "  <tbody>\n",
              "    <tr>\n",
              "      <th>0</th>\n",
              "      <td>1</td>\n",
              "      <td>Solteiro</td>\n",
              "      <td>Fundamental</td>\n",
              "      <td>*</td>\n",
              "      <td>4</td>\n",
              "      <td>26</td>\n",
              "      <td>Interior</td>\n",
              "    </tr>\n",
              "    <tr>\n",
              "      <th>1</th>\n",
              "      <td>2</td>\n",
              "      <td>Casado</td>\n",
              "      <td>Fundamental</td>\n",
              "      <td>1</td>\n",
              "      <td>4,56</td>\n",
              "      <td>32</td>\n",
              "      <td>Capital</td>\n",
              "    </tr>\n",
              "    <tr>\n",
              "      <th>2</th>\n",
              "      <td>3</td>\n",
              "      <td>Casado</td>\n",
              "      <td>Fundamental</td>\n",
              "      <td>2</td>\n",
              "      <td>5,25</td>\n",
              "      <td>36</td>\n",
              "      <td>Capital</td>\n",
              "    </tr>\n",
              "    <tr>\n",
              "      <th>3</th>\n",
              "      <td>4</td>\n",
              "      <td>Solteiro</td>\n",
              "      <td>Médio</td>\n",
              "      <td>*</td>\n",
              "      <td>5,73</td>\n",
              "      <td>20</td>\n",
              "      <td>Outro</td>\n",
              "    </tr>\n",
              "    <tr>\n",
              "      <th>4</th>\n",
              "      <td>5</td>\n",
              "      <td>Solteiro</td>\n",
              "      <td>Fundamental</td>\n",
              "      <td>*</td>\n",
              "      <td>6,26</td>\n",
              "      <td>40</td>\n",
              "      <td>Outro</td>\n",
              "    </tr>\n",
              "  </tbody>\n",
              "</table>\n",
              "</div>"
            ],
            "text/plain": [
              "   id estadoCivil  nivelEnsino filhos salario  idade    origem\n",
              "0   1    Solteiro  Fundamental      *       4     26  Interior\n",
              "1   2      Casado  Fundamental      1    4,56     32   Capital\n",
              "2   3      Casado  Fundamental      2    5,25     36   Capital\n",
              "3   4    Solteiro        Médio      *    5,73     20     Outro\n",
              "4   5    Solteiro  Fundamental      *    6,26     40     Outro"
            ]
          },
          "metadata": {
            "tags": []
          },
          "execution_count": 470
        }
      ]
    },
    {
      "cell_type": "markdown",
      "metadata": {
        "id": "ljOP3eel1zxu",
        "colab_type": "text"
      },
      "source": [
        "# a) (1,5pts) Classifique cada uma das variáveis do arquivo. \n",
        "\n",
        "**Estado civil:** Var. qualitativa nominal\n",
        "\n",
        "**Grau de instrução:** Var. qualitativa ordinal\n",
        "\n",
        "**Número de filhos:** Var. quantitativa discreta\n",
        "\n",
        "**Salário:** Var. quantitativa contínua\n",
        "\n",
        "**Idade:** Var. quantitativa discreta\n",
        "\n",
        "**Região de procedência:** Var. qualitativa nominal"
      ]
    },
    {
      "cell_type": "markdown",
      "metadata": {
        "id": "i5bMnpo23QcZ",
        "colab_type": "text"
      },
      "source": [
        "# b) (2pts) Construa tabelas para cada uma das variáveis: Estado civil, grau de instrução, nº de filhos e procedência. "
      ]
    },
    {
      "cell_type": "code",
      "metadata": {
        "id": "LdKIwQlfJ1Gp",
        "colab_type": "code",
        "outputId": "837233df-8359-412f-fdc2-e3aeea772c16",
        "colab": {
          "base_uri": "https://localhost:8080/",
          "height": 111
        }
      },
      "source": [
        "freqCiv = data['estadoCivil'].value_counts()  # frequencia\n",
        "percentCiv = data['estadoCivil'].value_counts(normalize = True)  # porcentagem\n",
        "frame = pd.DataFrame({'Frequência': freqCiv, 'Porcentagem' : percentCiv.map('{:,.2%}'.format) })  # tabela\n",
        "frame.rename_axis('Estado Civil', axis = 'columns', inplace = True)\n",
        "frame"
      ],
      "execution_count": 0,
      "outputs": [
        {
          "output_type": "execute_result",
          "data": {
            "text/html": [
              "<div>\n",
              "<style scoped>\n",
              "    .dataframe tbody tr th:only-of-type {\n",
              "        vertical-align: middle;\n",
              "    }\n",
              "\n",
              "    .dataframe tbody tr th {\n",
              "        vertical-align: top;\n",
              "    }\n",
              "\n",
              "    .dataframe thead th {\n",
              "        text-align: right;\n",
              "    }\n",
              "</style>\n",
              "<table border=\"1\" class=\"dataframe\">\n",
              "  <thead>\n",
              "    <tr style=\"text-align: right;\">\n",
              "      <th>Estado Civil</th>\n",
              "      <th>Frequência</th>\n",
              "      <th>Porcentagem</th>\n",
              "    </tr>\n",
              "  </thead>\n",
              "  <tbody>\n",
              "    <tr>\n",
              "      <th>Casado</th>\n",
              "      <td>20</td>\n",
              "      <td>55.56%</td>\n",
              "    </tr>\n",
              "    <tr>\n",
              "      <th>Solteiro</th>\n",
              "      <td>16</td>\n",
              "      <td>44.44%</td>\n",
              "    </tr>\n",
              "  </tbody>\n",
              "</table>\n",
              "</div>"
            ],
            "text/plain": [
              "Estado Civil  Frequência Porcentagem\n",
              "Casado                20      55.56%\n",
              "Solteiro              16      44.44%"
            ]
          },
          "metadata": {
            "tags": []
          },
          "execution_count": 190
        }
      ]
    },
    {
      "cell_type": "code",
      "metadata": {
        "id": "3Hf-7jC2MrrR",
        "colab_type": "code",
        "outputId": "b0a633c6-8139-4471-fef3-ab74a913ba94",
        "colab": {
          "base_uri": "https://localhost:8080/",
          "height": 142
        }
      },
      "source": [
        "freqEdu = data['nivelEnsino'].value_counts()  # frequencia\n",
        "percentEdu = data['nivelEnsino'].value_counts(normalize = True)  # porcentagem\n",
        "frame = pd.DataFrame({'Frequência': freqEdu, 'Porcentagem' : percentEdu.map('{:,.2%}'.format) })  # tabela\n",
        "frame.rename_axis('Nível de Ensino', axis = 'columns', inplace = True)\n",
        "frame"
      ],
      "execution_count": 0,
      "outputs": [
        {
          "output_type": "execute_result",
          "data": {
            "text/html": [
              "<div>\n",
              "<style scoped>\n",
              "    .dataframe tbody tr th:only-of-type {\n",
              "        vertical-align: middle;\n",
              "    }\n",
              "\n",
              "    .dataframe tbody tr th {\n",
              "        vertical-align: top;\n",
              "    }\n",
              "\n",
              "    .dataframe thead th {\n",
              "        text-align: right;\n",
              "    }\n",
              "</style>\n",
              "<table border=\"1\" class=\"dataframe\">\n",
              "  <thead>\n",
              "    <tr style=\"text-align: right;\">\n",
              "      <th>Nível de Ensino</th>\n",
              "      <th>Frequência</th>\n",
              "      <th>Porcentagem</th>\n",
              "    </tr>\n",
              "  </thead>\n",
              "  <tbody>\n",
              "    <tr>\n",
              "      <th>Médio</th>\n",
              "      <td>18</td>\n",
              "      <td>50.00%</td>\n",
              "    </tr>\n",
              "    <tr>\n",
              "      <th>Fundamental</th>\n",
              "      <td>12</td>\n",
              "      <td>33.33%</td>\n",
              "    </tr>\n",
              "    <tr>\n",
              "      <th>Superior</th>\n",
              "      <td>6</td>\n",
              "      <td>16.67%</td>\n",
              "    </tr>\n",
              "  </tbody>\n",
              "</table>\n",
              "</div>"
            ],
            "text/plain": [
              "Nível de Ensino  Frequência Porcentagem\n",
              "Médio                    18      50.00%\n",
              "Fundamental              12      33.33%\n",
              "Superior                  6      16.67%"
            ]
          },
          "metadata": {
            "tags": []
          },
          "execution_count": 324
        }
      ]
    },
    {
      "cell_type": "code",
      "metadata": {
        "id": "TJYTbZS6M3Sd",
        "colab_type": "code",
        "outputId": "6034f606-9f25-4d17-c58e-7e3affb4c46d",
        "colab": {
          "base_uri": "https://localhost:8080/",
          "height": 235
        }
      },
      "source": [
        "freqFilhos = data['filhos'].value_counts()  # frequencia\n",
        "percentFilhos = data['filhos'].value_counts(normalize = True)  # porcentagem\n",
        "frame = pd.DataFrame({'Frequência': freqFilhos, 'Porcentagem' : percentFilhos.map('{:,.2%}'.format) })  # tabela\n",
        "frame.rename_axis('Filhos', axis = 'columns', inplace = True)\n",
        "frame"
      ],
      "execution_count": 0,
      "outputs": [
        {
          "output_type": "execute_result",
          "data": {
            "text/html": [
              "<div>\n",
              "<style scoped>\n",
              "    .dataframe tbody tr th:only-of-type {\n",
              "        vertical-align: middle;\n",
              "    }\n",
              "\n",
              "    .dataframe tbody tr th {\n",
              "        vertical-align: top;\n",
              "    }\n",
              "\n",
              "    .dataframe thead th {\n",
              "        text-align: right;\n",
              "    }\n",
              "</style>\n",
              "<table border=\"1\" class=\"dataframe\">\n",
              "  <thead>\n",
              "    <tr style=\"text-align: right;\">\n",
              "      <th>Filhos</th>\n",
              "      <th>Frequência</th>\n",
              "      <th>Porcentagem</th>\n",
              "    </tr>\n",
              "  </thead>\n",
              "  <tbody>\n",
              "    <tr>\n",
              "      <th>*</th>\n",
              "      <td>16</td>\n",
              "      <td>44.44%</td>\n",
              "    </tr>\n",
              "    <tr>\n",
              "      <th>2</th>\n",
              "      <td>7</td>\n",
              "      <td>19.44%</td>\n",
              "    </tr>\n",
              "    <tr>\n",
              "      <th>1</th>\n",
              "      <td>5</td>\n",
              "      <td>13.89%</td>\n",
              "    </tr>\n",
              "    <tr>\n",
              "      <th>0</th>\n",
              "      <td>4</td>\n",
              "      <td>11.11%</td>\n",
              "    </tr>\n",
              "    <tr>\n",
              "      <th>3</th>\n",
              "      <td>3</td>\n",
              "      <td>8.33%</td>\n",
              "    </tr>\n",
              "    <tr>\n",
              "      <th>5</th>\n",
              "      <td>1</td>\n",
              "      <td>2.78%</td>\n",
              "    </tr>\n",
              "  </tbody>\n",
              "</table>\n",
              "</div>"
            ],
            "text/plain": [
              "Filhos  Frequência Porcentagem\n",
              "*               16      44.44%\n",
              "2                7      19.44%\n",
              "1                5      13.89%\n",
              "0                4      11.11%\n",
              "3                3       8.33%\n",
              "5                1       2.78%"
            ]
          },
          "metadata": {
            "tags": []
          },
          "execution_count": 192
        }
      ]
    },
    {
      "cell_type": "code",
      "metadata": {
        "id": "wy3OAS4dNPF8",
        "colab_type": "code",
        "outputId": "6bfef366-c001-4791-9371-3171cd800700",
        "colab": {
          "base_uri": "https://localhost:8080/",
          "height": 142
        }
      },
      "source": [
        "freqOrigem = data['origem'].value_counts()  # frequencia\n",
        "percentOrigem = data['origem'].value_counts(normalize = True)  # porcentagem\n",
        "frame = pd.DataFrame({'Frequência': freqOrigem, 'Porcentagem' : percentOrigem.map('{:,.2%}'.format) })  # tabela\n",
        "frame.rename_axis('Origem', axis = 'columns', inplace = True)\n",
        "frame"
      ],
      "execution_count": 0,
      "outputs": [
        {
          "output_type": "execute_result",
          "data": {
            "text/html": [
              "<div>\n",
              "<style scoped>\n",
              "    .dataframe tbody tr th:only-of-type {\n",
              "        vertical-align: middle;\n",
              "    }\n",
              "\n",
              "    .dataframe tbody tr th {\n",
              "        vertical-align: top;\n",
              "    }\n",
              "\n",
              "    .dataframe thead th {\n",
              "        text-align: right;\n",
              "    }\n",
              "</style>\n",
              "<table border=\"1\" class=\"dataframe\">\n",
              "  <thead>\n",
              "    <tr style=\"text-align: right;\">\n",
              "      <th>Origem</th>\n",
              "      <th>Frequência</th>\n",
              "      <th>Porcentagem</th>\n",
              "    </tr>\n",
              "  </thead>\n",
              "  <tbody>\n",
              "    <tr>\n",
              "      <th>Outro</th>\n",
              "      <td>13</td>\n",
              "      <td>36.11%</td>\n",
              "    </tr>\n",
              "    <tr>\n",
              "      <th>Interior</th>\n",
              "      <td>12</td>\n",
              "      <td>33.33%</td>\n",
              "    </tr>\n",
              "    <tr>\n",
              "      <th>Capital</th>\n",
              "      <td>11</td>\n",
              "      <td>30.56%</td>\n",
              "    </tr>\n",
              "  </tbody>\n",
              "</table>\n",
              "</div>"
            ],
            "text/plain": [
              "Origem    Frequência Porcentagem\n",
              "Outro             13      36.11%\n",
              "Interior          12      33.33%\n",
              "Capital           11      30.56%"
            ]
          },
          "metadata": {
            "tags": []
          },
          "execution_count": 193
        }
      ]
    },
    {
      "cell_type": "markdown",
      "metadata": {
        "id": "07cEdsrB3tfZ",
        "colab_type": "text"
      },
      "source": [
        "# c) (2,75pts) Com base nas tabelas construídas na letra b, complete: \n",
        "\n",
        "Dos 36 funcionários **20** são casados, que corresponde a **55,55%**.\n",
        "\n",
        "Com relação ao grau de instrução, **30** funcionários não têm curso superior, que corresponde a **83.33%** do total de funcionários.\n",
        "\n",
        "Um total de **16** funcionários não informaram o número de filhos. \n",
        "\n",
        "Um total de **16** **(43%)** têm menos de 3 filhos. Somente **4 (11%)** têm mais de 3 filhos. \n",
        "\n",
        "Um total de **23** funcionários são do estado de Minas Gerais. \n"
      ]
    },
    {
      "cell_type": "markdown",
      "metadata": {
        "id": "15PmRO0h4FMG",
        "colab_type": "text"
      },
      "source": [
        "# d) (1 pt)Construa uma tabela cruzada para as variáveis: Grau de instrução e região de procedência. "
      ]
    },
    {
      "cell_type": "code",
      "metadata": {
        "id": "x77kRIxTO1hA",
        "colab_type": "code",
        "outputId": "8e9da1ba-aeaa-4564-9de1-458a5556507b",
        "colab": {
          "base_uri": "https://localhost:8080/",
          "height": 156
        }
      },
      "source": [
        "pd.crosstab(data.origem, data.nivelEnsino, rownames = [''], colnames = ['Frequência'])"
      ],
      "execution_count": 0,
      "outputs": [
        {
          "output_type": "execute_result",
          "data": {
            "text/html": [
              "<div>\n",
              "<style scoped>\n",
              "    .dataframe tbody tr th:only-of-type {\n",
              "        vertical-align: middle;\n",
              "    }\n",
              "\n",
              "    .dataframe tbody tr th {\n",
              "        vertical-align: top;\n",
              "    }\n",
              "\n",
              "    .dataframe thead th {\n",
              "        text-align: right;\n",
              "    }\n",
              "</style>\n",
              "<table border=\"1\" class=\"dataframe\">\n",
              "  <thead>\n",
              "    <tr style=\"text-align: right;\">\n",
              "      <th>Frequência</th>\n",
              "      <th>Fundamental</th>\n",
              "      <th>Médio</th>\n",
              "      <th>Superior</th>\n",
              "    </tr>\n",
              "    <tr>\n",
              "      <th></th>\n",
              "      <th></th>\n",
              "      <th></th>\n",
              "      <th></th>\n",
              "    </tr>\n",
              "  </thead>\n",
              "  <tbody>\n",
              "    <tr>\n",
              "      <th>Capital</th>\n",
              "      <td>4</td>\n",
              "      <td>5</td>\n",
              "      <td>2</td>\n",
              "    </tr>\n",
              "    <tr>\n",
              "      <th>Interior</th>\n",
              "      <td>3</td>\n",
              "      <td>7</td>\n",
              "      <td>2</td>\n",
              "    </tr>\n",
              "    <tr>\n",
              "      <th>Outro</th>\n",
              "      <td>5</td>\n",
              "      <td>6</td>\n",
              "      <td>2</td>\n",
              "    </tr>\n",
              "  </tbody>\n",
              "</table>\n",
              "</div>"
            ],
            "text/plain": [
              "Frequência  Fundamental  Médio  Superior\n",
              "                                        \n",
              "Capital               4      5         2\n",
              "Interior              3      7         2\n",
              "Outro                 5      6         2"
            ]
          },
          "metadata": {
            "tags": []
          },
          "execution_count": 196
        }
      ]
    },
    {
      "cell_type": "code",
      "metadata": {
        "id": "y_to1ZVisLfM",
        "colab_type": "code",
        "outputId": "1462751f-3c68-4dc6-909b-41486ea64b67",
        "colab": {
          "base_uri": "https://localhost:8080/",
          "height": 156
        }
      },
      "source": [
        "tb = pd.crosstab(data.origem, data.nivelEnsino, rownames = [''], colnames = ['Porcentagem'], normalize = True)\n",
        "pd.options.display.float_format = '{:,.2%}'.format\n",
        "tb"
      ],
      "execution_count": 0,
      "outputs": [
        {
          "output_type": "execute_result",
          "data": {
            "text/html": [
              "<div>\n",
              "<style scoped>\n",
              "    .dataframe tbody tr th:only-of-type {\n",
              "        vertical-align: middle;\n",
              "    }\n",
              "\n",
              "    .dataframe tbody tr th {\n",
              "        vertical-align: top;\n",
              "    }\n",
              "\n",
              "    .dataframe thead th {\n",
              "        text-align: right;\n",
              "    }\n",
              "</style>\n",
              "<table border=\"1\" class=\"dataframe\">\n",
              "  <thead>\n",
              "    <tr style=\"text-align: right;\">\n",
              "      <th>Porcentagem</th>\n",
              "      <th>Fundamental</th>\n",
              "      <th>Médio</th>\n",
              "      <th>Superior</th>\n",
              "    </tr>\n",
              "    <tr>\n",
              "      <th></th>\n",
              "      <th></th>\n",
              "      <th></th>\n",
              "      <th></th>\n",
              "    </tr>\n",
              "  </thead>\n",
              "  <tbody>\n",
              "    <tr>\n",
              "      <th>Capital</th>\n",
              "      <td>11.11%</td>\n",
              "      <td>13.89%</td>\n",
              "      <td>5.56%</td>\n",
              "    </tr>\n",
              "    <tr>\n",
              "      <th>Interior</th>\n",
              "      <td>8.33%</td>\n",
              "      <td>19.44%</td>\n",
              "      <td>5.56%</td>\n",
              "    </tr>\n",
              "    <tr>\n",
              "      <th>Outro</th>\n",
              "      <td>13.89%</td>\n",
              "      <td>16.67%</td>\n",
              "      <td>5.56%</td>\n",
              "    </tr>\n",
              "  </tbody>\n",
              "</table>\n",
              "</div>"
            ],
            "text/plain": [
              "Porcentagem  Fundamental  Médio  Superior\n",
              "                                         \n",
              "Capital           11.11% 13.89%     5.56%\n",
              "Interior           8.33% 19.44%     5.56%\n",
              "Outro             13.89% 16.67%     5.56%"
            ]
          },
          "metadata": {
            "tags": []
          },
          "execution_count": 143
        }
      ]
    },
    {
      "cell_type": "markdown",
      "metadata": {
        "id": "ATzAZbwF4VHz",
        "colab_type": "text"
      },
      "source": [
        "# e) (3,5pts) A partir da tabela construída na letra d, responda:\n",
        "\n",
        "#### 1. Qual é a porcentagem de funcionários que têm o ensino médio?\n",
        "\n",
        "**50%**\n",
        "\n",
        "#### 2. Qual é a porcentagem de funcionários que são de outro estado?\n",
        "\n",
        "**16,66%**\n",
        "\n",
        "#### 3. Qual é a porcentagem de funcionários que têm o ensino médio e são do interior? \n",
        "\n",
        "**33%**\n",
        "\n",
        "#### 4. Dentre os funcionários do interior, quantos por cento têm o ensino médio?  \n",
        "\n",
        "**19,44%**\n",
        "\n",
        "#### 5. Dentre os funcionários da capital, quantos por cento têm curso superior? \n",
        "\n",
        "**5.55%**\n",
        "\n",
        "#### 6. Dentre os funcionários que têm curso superior, quantos por cento são do interior? \n",
        "\n",
        "**5,55%**\n",
        "\n",
        "#### 7. Dentre os funcionários que têm ensino fundamental, quantos por cento são de outro estado? \n",
        "\n",
        "**13.88%**"
      ]
    },
    {
      "cell_type": "markdown",
      "metadata": {
        "id": "bhzntl5B4pW7",
        "colab_type": "text"
      },
      "source": [
        "# f) Complete a tabela de síntese numérica:"
      ]
    },
    {
      "cell_type": "code",
      "metadata": {
        "id": "LvCH4ctzJ-2y",
        "colab_type": "code",
        "outputId": "12e8bb4c-f607-4a03-9c06-521aa7afa7ee",
        "colab": {
          "base_uri": "https://localhost:8080/",
          "height": 204
        }
      },
      "source": [
        "salarioStr = data['salario']\n",
        "salarioStr = [float(salario.replace(',','.') )for salario in salarioStr]  # data wrangling\n",
        "salarios = pd.DataFrame(salarioStr)*1000 \n",
        "salarios.columns = [\"Salário\"]\n",
        "pd.options.display.float_format = 'R${:,.2f}'.format\n",
        "salarios.head()"
      ],
      "execution_count": 0,
      "outputs": [
        {
          "output_type": "execute_result",
          "data": {
            "text/html": [
              "<div>\n",
              "<style scoped>\n",
              "    .dataframe tbody tr th:only-of-type {\n",
              "        vertical-align: middle;\n",
              "    }\n",
              "\n",
              "    .dataframe tbody tr th {\n",
              "        vertical-align: top;\n",
              "    }\n",
              "\n",
              "    .dataframe thead th {\n",
              "        text-align: right;\n",
              "    }\n",
              "</style>\n",
              "<table border=\"1\" class=\"dataframe\">\n",
              "  <thead>\n",
              "    <tr style=\"text-align: right;\">\n",
              "      <th></th>\n",
              "      <th>Salário</th>\n",
              "    </tr>\n",
              "  </thead>\n",
              "  <tbody>\n",
              "    <tr>\n",
              "      <th>0</th>\n",
              "      <td>R$4,000.00</td>\n",
              "    </tr>\n",
              "    <tr>\n",
              "      <th>1</th>\n",
              "      <td>R$4,560.00</td>\n",
              "    </tr>\n",
              "    <tr>\n",
              "      <th>2</th>\n",
              "      <td>R$5,250.00</td>\n",
              "    </tr>\n",
              "    <tr>\n",
              "      <th>3</th>\n",
              "      <td>R$5,730.00</td>\n",
              "    </tr>\n",
              "    <tr>\n",
              "      <th>4</th>\n",
              "      <td>R$6,260.00</td>\n",
              "    </tr>\n",
              "  </tbody>\n",
              "</table>\n",
              "</div>"
            ],
            "text/plain": [
              "     Salário\n",
              "0 R$4,000.00\n",
              "1 R$4,560.00\n",
              "2 R$5,250.00\n",
              "3 R$5,730.00\n",
              "4 R$6,260.00"
            ]
          },
          "metadata": {
            "tags": []
          },
          "execution_count": 465
        }
      ]
    },
    {
      "cell_type": "code",
      "metadata": {
        "id": "AFFqNnC7kv4O",
        "colab_type": "code",
        "outputId": "23275a4d-d2f2-40b8-ec16-8863eaf49057",
        "colab": {
          "base_uri": "https://localhost:8080/",
          "height": 297
        }
      },
      "source": [
        "cv = salarios.std() / salarios.mean()   # coeficiente de variação\n",
        "\n",
        "variance = pd.DataFrame(cv.map('{:,.2%}'.format))\n",
        "variance.columns = [\"Salário\"]\n",
        "variance.index = [\"var\"]\n",
        "\n",
        "df = salarios.describe().drop('count')\n",
        "\n",
        "pd.options.display.float_format = 'R$ {:,.2f}'.format\n",
        "\n",
        "tb = variance.append(df, ignore_index = False)\n",
        "\n",
        "tb"
      ],
      "execution_count": 0,
      "outputs": [
        {
          "output_type": "execute_result",
          "data": {
            "text/html": [
              "<div>\n",
              "<style scoped>\n",
              "    .dataframe tbody tr th:only-of-type {\n",
              "        vertical-align: middle;\n",
              "    }\n",
              "\n",
              "    .dataframe tbody tr th {\n",
              "        vertical-align: top;\n",
              "    }\n",
              "\n",
              "    .dataframe thead th {\n",
              "        text-align: right;\n",
              "    }\n",
              "</style>\n",
              "<table border=\"1\" class=\"dataframe\">\n",
              "  <thead>\n",
              "    <tr style=\"text-align: right;\">\n",
              "      <th></th>\n",
              "      <th>Salário</th>\n",
              "    </tr>\n",
              "  </thead>\n",
              "  <tbody>\n",
              "    <tr>\n",
              "      <th>var</th>\n",
              "      <td>41.25%</td>\n",
              "    </tr>\n",
              "    <tr>\n",
              "      <th>mean</th>\n",
              "      <td>R$ 11,122.22</td>\n",
              "    </tr>\n",
              "    <tr>\n",
              "      <th>std</th>\n",
              "      <td>R$ 4,587.46</td>\n",
              "    </tr>\n",
              "    <tr>\n",
              "      <th>min</th>\n",
              "      <td>R$ 4,000.00</td>\n",
              "    </tr>\n",
              "    <tr>\n",
              "      <th>25%</th>\n",
              "      <td>R$ 7,552.50</td>\n",
              "    </tr>\n",
              "    <tr>\n",
              "      <th>50%</th>\n",
              "      <td>R$ 10,165.00</td>\n",
              "    </tr>\n",
              "    <tr>\n",
              "      <th>75%</th>\n",
              "      <td>R$ 14,060.00</td>\n",
              "    </tr>\n",
              "    <tr>\n",
              "      <th>max</th>\n",
              "      <td>R$ 23,300.00</td>\n",
              "    </tr>\n",
              "  </tbody>\n",
              "</table>\n",
              "</div>"
            ],
            "text/plain": [
              "          Salário\n",
              "var        41.25%\n",
              "mean R$ 11,122.22\n",
              "std   R$ 4,587.46\n",
              "min   R$ 4,000.00\n",
              "25%   R$ 7,552.50\n",
              "50%  R$ 10,165.00\n",
              "75%  R$ 14,060.00\n",
              "max  R$ 23,300.00"
            ]
          },
          "metadata": {
            "tags": []
          },
          "execution_count": 320
        }
      ]
    },
    {
      "cell_type": "markdown",
      "metadata": {
        "id": "Q1zIYx9W44_o",
        "colab_type": "text"
      },
      "source": [
        "# g) (1pt) Interprete o 1º quartil obtido na tabela da letra f. \n",
        "*O primeiro quartil está abaixo da média, entretanto, está próximo da quantia considerada pelo desvio padrão. Apesar disso, significa que 25% dos funcionários recebem até R$7.552,00*"
      ]
    },
    {
      "cell_type": "markdown",
      "metadata": {
        "id": "DNaTs1fB6VqC",
        "colab_type": "text"
      },
      "source": [
        "# h) (2,4pts) Calcule as medidas descritivas da variável Salário para cada categoria do grau de instrução:"
      ]
    },
    {
      "cell_type": "code",
      "metadata": {
        "id": "jO-cxKLVQ3xz",
        "colab_type": "code",
        "outputId": "f11da997-9257-4e51-ba05-fd51f6b53367",
        "colab": {
          "base_uri": "https://localhost:8080/",
          "height": 204
        }
      },
      "source": [
        "df = pd.DataFrame(salarios)\n",
        "df['Educação'] = data.nivelEnsino\n",
        "df.head()"
      ],
      "execution_count": 0,
      "outputs": [
        {
          "output_type": "execute_result",
          "data": {
            "text/html": [
              "<div>\n",
              "<style scoped>\n",
              "    .dataframe tbody tr th:only-of-type {\n",
              "        vertical-align: middle;\n",
              "    }\n",
              "\n",
              "    .dataframe tbody tr th {\n",
              "        vertical-align: top;\n",
              "    }\n",
              "\n",
              "    .dataframe thead th {\n",
              "        text-align: right;\n",
              "    }\n",
              "</style>\n",
              "<table border=\"1\" class=\"dataframe\">\n",
              "  <thead>\n",
              "    <tr style=\"text-align: right;\">\n",
              "      <th></th>\n",
              "      <th>Salário</th>\n",
              "      <th>Educação</th>\n",
              "    </tr>\n",
              "  </thead>\n",
              "  <tbody>\n",
              "    <tr>\n",
              "      <th>0</th>\n",
              "      <td>R$4,000.00</td>\n",
              "      <td>Fundamental</td>\n",
              "    </tr>\n",
              "    <tr>\n",
              "      <th>1</th>\n",
              "      <td>R$4,560.00</td>\n",
              "      <td>Fundamental</td>\n",
              "    </tr>\n",
              "    <tr>\n",
              "      <th>2</th>\n",
              "      <td>R$5,250.00</td>\n",
              "      <td>Fundamental</td>\n",
              "    </tr>\n",
              "    <tr>\n",
              "      <th>3</th>\n",
              "      <td>R$5,730.00</td>\n",
              "      <td>Médio</td>\n",
              "    </tr>\n",
              "    <tr>\n",
              "      <th>4</th>\n",
              "      <td>R$6,260.00</td>\n",
              "      <td>Fundamental</td>\n",
              "    </tr>\n",
              "  </tbody>\n",
              "</table>\n",
              "</div>"
            ],
            "text/plain": [
              "     Salário     Educação\n",
              "0 R$4,000.00  Fundamental\n",
              "1 R$4,560.00  Fundamental\n",
              "2 R$5,250.00  Fundamental\n",
              "3 R$5,730.00        Médio\n",
              "4 R$6,260.00  Fundamental"
            ]
          },
          "metadata": {
            "tags": []
          },
          "execution_count": 463
        }
      ]
    },
    {
      "cell_type": "markdown",
      "metadata": {
        "id": "4gRl74Cx8Vvd",
        "colab_type": "text"
      },
      "source": [
        "Fundamental"
      ]
    },
    {
      "cell_type": "code",
      "metadata": {
        "id": "UUOyH6JbVitH",
        "colab_type": "code",
        "outputId": "675c4e7f-d0c9-4825-b176-bc940821638e",
        "colab": {
          "base_uri": "https://localhost:8080/",
          "height": 297
        }
      },
      "source": [
        "fund = df[df['Educação'] == 'Fundamental']\n",
        "\n",
        "cv = fund.std() / fund.mean()   # coeficiente de variação\n",
        "\n",
        "variance = pd.DataFrame(cv.map('{:,.2%}'.format))\n",
        "variance.columns = [\"Salário\"]\n",
        "variance.index = [\"var\"]\n",
        "\n",
        "des = fund.describe().drop('count')\n",
        "\n",
        "pd.options.display.float_format = 'R$ {:,.2f}'.format\n",
        "\n",
        "tb = variance.append(des, ignore_index = False)\n",
        "\n",
        "tb"
      ],
      "execution_count": 0,
      "outputs": [
        {
          "output_type": "execute_result",
          "data": {
            "text/html": [
              "<div>\n",
              "<style scoped>\n",
              "    .dataframe tbody tr th:only-of-type {\n",
              "        vertical-align: middle;\n",
              "    }\n",
              "\n",
              "    .dataframe tbody tr th {\n",
              "        vertical-align: top;\n",
              "    }\n",
              "\n",
              "    .dataframe thead th {\n",
              "        text-align: right;\n",
              "    }\n",
              "</style>\n",
              "<table border=\"1\" class=\"dataframe\">\n",
              "  <thead>\n",
              "    <tr style=\"text-align: right;\">\n",
              "      <th></th>\n",
              "      <th>Salário</th>\n",
              "    </tr>\n",
              "  </thead>\n",
              "  <tbody>\n",
              "    <tr>\n",
              "      <th>var</th>\n",
              "      <td>37.73%</td>\n",
              "    </tr>\n",
              "    <tr>\n",
              "      <th>mean</th>\n",
              "      <td>R$ 7,836.67</td>\n",
              "    </tr>\n",
              "    <tr>\n",
              "      <th>std</th>\n",
              "      <td>R$ 2,956.46</td>\n",
              "    </tr>\n",
              "    <tr>\n",
              "      <th>min</th>\n",
              "      <td>R$ 4,000.00</td>\n",
              "    </tr>\n",
              "    <tr>\n",
              "      <th>25%</th>\n",
              "      <td>R$ 6,007.50</td>\n",
              "    </tr>\n",
              "    <tr>\n",
              "      <th>50%</th>\n",
              "      <td>R$ 7,125.00</td>\n",
              "    </tr>\n",
              "    <tr>\n",
              "      <th>75%</th>\n",
              "      <td>R$ 9,162.50</td>\n",
              "    </tr>\n",
              "    <tr>\n",
              "      <th>max</th>\n",
              "      <td>R$ 13,850.00</td>\n",
              "    </tr>\n",
              "  </tbody>\n",
              "</table>\n",
              "</div>"
            ],
            "text/plain": [
              "          Salário\n",
              "var        37.73%\n",
              "mean  R$ 7,836.67\n",
              "std   R$ 2,956.46\n",
              "min   R$ 4,000.00\n",
              "25%   R$ 6,007.50\n",
              "50%   R$ 7,125.00\n",
              "75%   R$ 9,162.50\n",
              "max  R$ 13,850.00"
            ]
          },
          "metadata": {
            "tags": []
          },
          "execution_count": 429
        }
      ]
    },
    {
      "cell_type": "markdown",
      "metadata": {
        "id": "BLV-HC2d8ZpT",
        "colab_type": "text"
      },
      "source": [
        "Médio"
      ]
    },
    {
      "cell_type": "code",
      "metadata": {
        "id": "_SHrRPXGqVkt",
        "colab_type": "code",
        "outputId": "690a667f-ed67-43bd-d43e-817f75488c7d",
        "colab": {
          "base_uri": "https://localhost:8080/",
          "height": 297
        }
      },
      "source": [
        "med = df[df['Educação'] == 'Médio']\n",
        "\n",
        "cv =  med.std() / med.mean()   # coeficiente de variação\n",
        "\n",
        "variance = pd.DataFrame(cv.map('{:,.2%}'.format))\n",
        "variance.columns = [\"Salário\"]\n",
        "variance.index = [\"var\"]\n",
        "\n",
        "des = med.describe().drop('count')\n",
        "\n",
        "pd.options.display.float_format = 'R$ {:,.2f}'.format\n",
        "\n",
        "tb = variance.append(des, ignore_index = False)\n",
        "\n",
        "tb"
      ],
      "execution_count": 0,
      "outputs": [
        {
          "output_type": "execute_result",
          "data": {
            "text/html": [
              "<div>\n",
              "<style scoped>\n",
              "    .dataframe tbody tr th:only-of-type {\n",
              "        vertical-align: middle;\n",
              "    }\n",
              "\n",
              "    .dataframe tbody tr th {\n",
              "        vertical-align: top;\n",
              "    }\n",
              "\n",
              "    .dataframe thead th {\n",
              "        text-align: right;\n",
              "    }\n",
              "</style>\n",
              "<table border=\"1\" class=\"dataframe\">\n",
              "  <thead>\n",
              "    <tr style=\"text-align: right;\">\n",
              "      <th></th>\n",
              "      <th>Salário</th>\n",
              "    </tr>\n",
              "  </thead>\n",
              "  <tbody>\n",
              "    <tr>\n",
              "      <th>var</th>\n",
              "      <td>32.23%</td>\n",
              "    </tr>\n",
              "    <tr>\n",
              "      <th>mean</th>\n",
              "      <td>R$ 11,528.33</td>\n",
              "    </tr>\n",
              "    <tr>\n",
              "      <th>std</th>\n",
              "      <td>R$ 3,715.14</td>\n",
              "    </tr>\n",
              "    <tr>\n",
              "      <th>min</th>\n",
              "      <td>R$ 5,730.00</td>\n",
              "    </tr>\n",
              "    <tr>\n",
              "      <th>25%</th>\n",
              "      <td>R$ 8,837.50</td>\n",
              "    </tr>\n",
              "    <tr>\n",
              "      <th>50%</th>\n",
              "      <td>R$ 10,910.00</td>\n",
              "    </tr>\n",
              "    <tr>\n",
              "      <th>75%</th>\n",
              "      <td>R$ 14,417.50</td>\n",
              "    </tr>\n",
              "    <tr>\n",
              "      <th>max</th>\n",
              "      <td>R$ 19,400.00</td>\n",
              "    </tr>\n",
              "  </tbody>\n",
              "</table>\n",
              "</div>"
            ],
            "text/plain": [
              "          Salário\n",
              "var        32.23%\n",
              "mean R$ 11,528.33\n",
              "std   R$ 3,715.14\n",
              "min   R$ 5,730.00\n",
              "25%   R$ 8,837.50\n",
              "50%  R$ 10,910.00\n",
              "75%  R$ 14,417.50\n",
              "max  R$ 19,400.00"
            ]
          },
          "metadata": {
            "tags": []
          },
          "execution_count": 430
        }
      ]
    },
    {
      "cell_type": "markdown",
      "metadata": {
        "id": "0s6piIRl8cP2",
        "colab_type": "text"
      },
      "source": [
        "Superior"
      ]
    },
    {
      "cell_type": "code",
      "metadata": {
        "id": "LUkoJWEAw-PM",
        "colab_type": "code",
        "outputId": "0fc05a10-0ecb-47e4-a4f5-2211dc2e5061",
        "colab": {
          "base_uri": "https://localhost:8080/",
          "height": 297
        }
      },
      "source": [
        "sup = df[df['Educação'] == 'Superior']\n",
        "\n",
        "cv = sup.std() / sup.mean()   # coeficiente de variação\n",
        "\n",
        "variance = pd.DataFrame(cv.map('{:,.2%}'.format))\n",
        "variance.columns = [\"Salário\"]\n",
        "variance.index = [\"var\"]\n",
        "\n",
        "des = sup.describe().drop('count')\n",
        "\n",
        "pd.options.display.float_format = 'R$ {:,.2f}'.format\n",
        "\n",
        "tb = variance.append(des, ignore_index = False)\n",
        "\n",
        "tb"
      ],
      "execution_count": 0,
      "outputs": [
        {
          "output_type": "execute_result",
          "data": {
            "text/html": [
              "<div>\n",
              "<style scoped>\n",
              "    .dataframe tbody tr th:only-of-type {\n",
              "        vertical-align: middle;\n",
              "    }\n",
              "\n",
              "    .dataframe tbody tr th {\n",
              "        vertical-align: top;\n",
              "    }\n",
              "\n",
              "    .dataframe thead th {\n",
              "        text-align: right;\n",
              "    }\n",
              "</style>\n",
              "<table border=\"1\" class=\"dataframe\">\n",
              "  <thead>\n",
              "    <tr style=\"text-align: right;\">\n",
              "      <th></th>\n",
              "      <th>Salário</th>\n",
              "    </tr>\n",
              "  </thead>\n",
              "  <tbody>\n",
              "    <tr>\n",
              "      <th>var</th>\n",
              "      <td>27.33%</td>\n",
              "    </tr>\n",
              "    <tr>\n",
              "      <th>mean</th>\n",
              "      <td>R$ 16,475.00</td>\n",
              "    </tr>\n",
              "    <tr>\n",
              "      <th>std</th>\n",
              "      <td>R$ 4,502.44</td>\n",
              "    </tr>\n",
              "    <tr>\n",
              "      <th>min</th>\n",
              "      <td>R$ 10,530.00</td>\n",
              "    </tr>\n",
              "    <tr>\n",
              "      <th>25%</th>\n",
              "      <td>R$ 13,647.50</td>\n",
              "    </tr>\n",
              "    <tr>\n",
              "      <th>50%</th>\n",
              "      <td>R$ 16,740.00</td>\n",
              "    </tr>\n",
              "    <tr>\n",
              "      <th>75%</th>\n",
              "      <td>R$ 18,377.50</td>\n",
              "    </tr>\n",
              "    <tr>\n",
              "      <th>max</th>\n",
              "      <td>R$ 23,300.00</td>\n",
              "    </tr>\n",
              "  </tbody>\n",
              "</table>\n",
              "</div>"
            ],
            "text/plain": [
              "          Salário\n",
              "var        27.33%\n",
              "mean R$ 16,475.00\n",
              "std   R$ 4,502.44\n",
              "min  R$ 10,530.00\n",
              "25%  R$ 13,647.50\n",
              "50%  R$ 16,740.00\n",
              "75%  R$ 18,377.50\n",
              "max  R$ 23,300.00"
            ]
          },
          "metadata": {
            "tags": []
          },
          "execution_count": 431
        }
      ]
    },
    {
      "cell_type": "markdown",
      "metadata": {
        "id": "jKz97bg56rWy",
        "colab_type": "text"
      },
      "source": [
        "# i) (1,35pts) Escreva um parágrafo contendo suas observações a respeito do salário dos funcionários em relação ao grau de instrução. Utilize pelo menos uma medida de tendência central e uma medida de variabilidade, dentre as obtidas na letra h.\n",
        "*Os salários possuem tendências em relação ao grau de instrução dos funcionários. Quanto maior o grau de instrução, haverá a maior possibilidade de um salário maior. Notamos tal comportamento com base menor e maior salários de cada grupo, tal como observamos o mesmo fator em relação à média.*"
      ]
    },
    {
      "cell_type": "markdown",
      "metadata": {
        "id": "JJw3V8dA7BAW",
        "colab_type": "text"
      },
      "source": [
        "# j) (1pt) Construa um histograma para os salários dos funcionários, com limite inferior da primeira classe igual a 4 salários mínimos e amplitude de cada classe igual a 4 salários mínimos. Apresente as frequências em cima de cada coluna. "
      ]
    },
    {
      "cell_type": "code",
      "metadata": {
        "id": "Ij8ZCyGY7GeF",
        "colab_type": "code",
        "outputId": "27d7c221-9c5e-4a97-8ce3-aae8248228a0",
        "colab": {
          "base_uri": "https://localhost:8080/",
          "height": 293
        }
      },
      "source": [
        "import seaborn as sns\n",
        "\n",
        "sns.set_style('darkgrid')\n",
        "sns.distplot(salarios, bins = 5)"
      ],
      "execution_count": 0,
      "outputs": [
        {
          "output_type": "execute_result",
          "data": {
            "text/plain": [
              "<matplotlib.axes._subplots.AxesSubplot at 0x7f6f58884358>"
            ]
          },
          "metadata": {
            "tags": []
          },
          "execution_count": 467
        },
        {
          "output_type": "display_data",
          "data": {
            "image/png": "[encoded data removed]",
            "text/plain": [
              "<Figure size 432x288 with 1 Axes>"
            ]
          },
          "metadata": {
            "tags": []
          }
        }
      ]
    },
    {
      "cell_type": "markdown",
      "metadata": {
        "id": "39WeRJtA7KqE",
        "colab_type": "text"
      },
      "source": [
        "# k) (0,5pt) Responda:\n",
        "k1) Qual é o limite superior da última classe? \n",
        "*6 salários mínimos.*\n",
        "\n",
        "k2) Quais são os limites da classe de maior frequência? \n",
        "*8 a 12 salários mínimos.*\n",
        "\n",
        "k3) Quantos funcionários estão nessa faixa salarial?\n",
        "*11 funcionários.*\n",
        "\n",
        "k4) Qual é a forma da distribuição dos dados? \n",
        "*Mesocúrtica*"
      ]
    },
    {
      "cell_type": "markdown",
      "metadata": {
        "id": "HCuYDOXe7Hsy",
        "colab_type": "text"
      },
      "source": [
        "# l) (1pt) Construa um boxplot para a idade dos funcionários. "
      ]
    },
    {
      "cell_type": "code",
      "metadata": {
        "id": "3J0FFa2N7bcZ",
        "colab_type": "code",
        "outputId": "283ebff9-eea5-4721-8bf7-5cdb42f3dab0",
        "colab": {
          "base_uri": "https://localhost:8080/",
          "height": 279
        }
      },
      "source": [
        "df = data\n",
        "bplot = sns.boxplot(x = data.idade, \n",
        "                 data=df, \n",
        "                 width=0.5,\n",
        "                 palette=\"colorblind\")"
      ],
      "execution_count": 0,
      "outputs": [
        {
          "output_type": "display_data",
          "data": {
            "image/png": "[encoded data removed]",
            "text/plain": [
              "<Figure size 432x288 with 1 Axes>"
            ]
          },
          "metadata": {
            "tags": []
          }
        }
      ]
    },
    {
      "cell_type": "markdown",
      "metadata": {
        "id": "CHIrTKQC7cAh",
        "colab_type": "text"
      },
      "source": [
        "# m) (1pt)Responda:\n",
        "m1) Qual o valor do primeiro quartil?\n",
        "*30 anos*\n",
        "\n",
        "m2) Vinte e cinco por cento dos funcionários mais velhos têm de *40 a 48 anos*.\n",
        "\n",
        "m3) Cinquenta por cento dos funcionários têm de *34 a 39 anos.*\n",
        "\n",
        "m4) Vinte e cinco por cento dos funcionários mais jovens têm de *20 a 30 anos.*\n",
        "\n",
        "m5) Qual é a forma da distribuição dos dados? \n",
        "*Mesocúrtica e equilibrada, com uma leve tendência para os mais velhos.*"
      ]
    },
    {
      "cell_type": "code",
      "metadata": {
        "id": "9pAeleZHN48c",
        "colab_type": "code",
        "outputId": "b2835276-2afa-40a5-8815-6600273fb99b",
        "colab": {
          "base_uri": "https://localhost:8080/",
          "height": 170
        }
      },
      "source": [
        "pd.options.display.float_format = '{:,.2f}'.format\n",
        "data.idade.describe()"
      ],
      "execution_count": 0,
      "outputs": [
        {
          "output_type": "execute_result",
          "data": {
            "text/plain": [
              "count   36.00\n",
              "mean    34.58\n",
              "std      6.74\n",
              "min     20.00\n",
              "25%     30.00\n",
              "50%     34.50\n",
              "75%     40.00\n",
              "max     48.00\n",
              "Name: idade, dtype: float64"
            ]
          },
          "metadata": {
            "tags": []
          },
          "execution_count": 469
        }
      ]
    },
    {
      "cell_type": "markdown",
      "metadata": {
        "id": "NTdiZDd8QfXf",
        "colab_type": "text"
      },
      "source": [
        "# Autor: Otávio Celani"
      ]
    }
  ]
}
